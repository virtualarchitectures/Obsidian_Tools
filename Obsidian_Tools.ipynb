{
 "cells": [
  {
   "cell_type": "markdown",
   "id": "739a1535",
   "metadata": {},
   "source": [
    "# Obsidian Tools\n",
    "\n",
    "A Jupyter Notebook for accessing and analysing Obsidian vaults with Pandas and NetworkX."
   ]
  },
  {
   "cell_type": "markdown",
   "id": "623b81ad",
   "metadata": {},
   "source": [
    "#### Import packages"
   ]
  },
  {
   "cell_type": "code",
   "execution_count": null,
   "id": "b51f9275",
   "metadata": {},
   "outputs": [],
   "source": [
    "# Obsidiantools Requirements\n",
    "import numpy as np\n",
    "import pandas as pd\n",
    "import networkx as nx\n",
    "import obsidiantools.api as otools\n",
    "\n",
    "import os\n",
    "from pathlib import Path\n",
    "\n",
    "# Matplotlib for visualisation\n",
    "import matplotlib.pyplot as plt\n",
    "%matplotlib inline"
   ]
  },
  {
   "cell_type": "markdown",
   "id": "5b594761",
   "metadata": {},
   "source": [
    "#### Set vault directory"
   ]
  },
  {
   "cell_type": "code",
   "execution_count": null,
   "id": "b1a3d47e",
   "metadata": {},
   "outputs": [],
   "source": [
    "# Request path from user\n",
    "vault_dir = Path(os.path.abspath(input('Vault directory: ')))\n",
    "# Confirm path exists\n",
    "os.path.exists(vault_dir)"
   ]
  },
  {
   "cell_type": "markdown",
   "id": "3296adb6",
   "metadata": {},
   "source": [
    "#### Connect to the Vault"
   ]
  },
  {
   "cell_type": "code",
   "execution_count": null,
   "id": "6a22ec6d",
   "metadata": {
    "scrolled": false
   },
   "outputs": [],
   "source": [
    "vault = otools.Vault(vault_dir).connect().gather()\n",
    "print(f\"Connected?: {vault.is_connected}\")\n",
    "print(f\"Gathered?:  {vault.is_gathered}\")"
   ]
  },
  {
   "cell_type": "markdown",
   "id": "90a12874",
   "metadata": {},
   "source": [
    "**Warning!** Awaiting resolution of GitHub Issue: [https://github.com/mfarragher/obsidiantools/issues/6](https://github.com/mfarragher/obsidiantools/issues/6)"
   ]
  },
  {
   "cell_type": "code",
   "execution_count": null,
   "id": "44f3e6ec",
   "metadata": {},
   "outputs": [],
   "source": []
  }
 ],
 "metadata": {
  "kernelspec": {
   "display_name": "Python 3 (ipykernel)",
   "language": "python",
   "name": "python3"
  },
  "language_info": {
   "codemirror_mode": {
    "name": "ipython",
    "version": 3
   },
   "file_extension": ".py",
   "mimetype": "text/x-python",
   "name": "python",
   "nbconvert_exporter": "python",
   "pygments_lexer": "ipython3",
   "version": "3.8.12"
  }
 },
 "nbformat": 4,
 "nbformat_minor": 5
}
