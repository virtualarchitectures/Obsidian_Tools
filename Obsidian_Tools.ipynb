{
 "cells": [
  {
   "cell_type": "markdown",
   "id": "739a1535",
   "metadata": {},
   "source": [
    "# Obsidian Tools\n",
    "\n",
    "A Jupyter Notebook for accessing and analysing Obsidian vaults with Pandas and NetworkX."
   ]
  },
  {
   "cell_type": "markdown",
   "id": "623b81ad",
   "metadata": {},
   "source": [
    "#### Import packages"
   ]
  },
  {
   "cell_type": "code",
   "execution_count": null,
   "id": "b51f9275",
   "metadata": {},
   "outputs": [],
   "source": [
    "# Obsidiantools Requirements\n",
    "import numpy as np\n",
    "import pandas as pd\n",
    "import networkx as nx\n",
    "import obsidiantools.api as otools\n",
    "\n",
    "import os\n",
    "from pathlib import Path\n",
    "\n",
    "# Matplotlib for visualisation\n",
    "import matplotlib.pyplot as plt\n",
    "%matplotlib inline"
   ]
  },
  {
   "cell_type": "markdown",
   "id": "5b594761",
   "metadata": {},
   "source": [
    "## Set vault directory"
   ]
  },
  {
   "cell_type": "code",
   "execution_count": null,
   "id": "b1a3d47e",
   "metadata": {},
   "outputs": [],
   "source": [
    "# Request path from user\n",
    "vault_dir = Path(os.path.abspath(input('Vault directory: ')))  # Note: Currently this requires a linux style path\n",
    "# Confirm path exists\n",
    "os.path.exists(vault_dir)"
   ]
  },
  {
   "cell_type": "markdown",
   "id": "3296adb6",
   "metadata": {},
   "source": [
    "## Connect and Gather the Vault Contents\n",
    "\n",
    "The **Vault** object has two methods which must be called in order to prepare the Obsidian vault for analysis:\n",
    "\n",
    "- **.connect()** - This method connects the vault contents into a graph. It provides access to vault metadata and enables you to lookup your notes and get references to links.\n",
    "- **.gather()** - This method gathers the vault notes' content. It provides a master index of notes and provides access to plaintext content of individual notes."
   ]
  },
  {
   "cell_type": "code",
   "execution_count": null,
   "id": "6a22ec6d",
   "metadata": {
    "scrolled": false
   },
   "outputs": [],
   "source": [
    "# Prepare vault for analysis\n",
    "vault = otools.Vault(vault_dir).connect().gather()\n",
    "# Confirm vualt path\n",
    "print(vault.dirpath)\n",
    "# Confirm vualt readiness\n",
    "print(f\"Connected? - {vault.is_connected}\")\n",
    "print(f\"Gathered?  - {vault.is_gathered}\")"
   ]
  },
  {
   "cell_type": "markdown",
   "id": "90a12874",
   "metadata": {},
   "source": [
    "## Access Vault Contents"
   ]
  },
  {
   "cell_type": "markdown",
   "id": "76adf5a0",
   "metadata": {},
   "source": [
    "#### List files in vault"
   ]
  },
  {
   "cell_type": "code",
   "execution_count": null,
   "id": "6c873976",
   "metadata": {},
   "outputs": [],
   "source": [
    "vault.file_index"
   ]
  },
  {
   "cell_type": "markdown",
   "id": "5397687a",
   "metadata": {},
   "source": [
    "#### Filter list by subdirectory"
   ]
  },
  {
   "cell_type": "code",
   "execution_count": null,
   "id": "f2c557e1",
   "metadata": {},
   "outputs": [],
   "source": [
    "(otools.Vault(vault_dir, include_subdirs=['docs/Concepts'], include_root=False)\n",
    " .file_index) # Note: Currently this requires a linux style path"
   ]
  },
  {
   "cell_type": "markdown",
   "id": "126e11f7",
   "metadata": {},
   "source": [
    "#### Identify Isolated Notes\n",
    "\n",
    "In Obsidian isolated or 'orphan' notes are ones with **no backlinks** and **no wikilinks** which are the preferred method for establishing internal links `[[TITLE OF LINKED NOTE]]` between notes."
   ]
  },
  {
   "cell_type": "code",
   "execution_count": null,
   "id": "c6935761",
   "metadata": {},
   "outputs": [],
   "source": [
    "vault.isolated_notes"
   ]
  },
  {
   "cell_type": "markdown",
   "id": "c4492271",
   "metadata": {},
   "source": [
    "#### Identify Non-existent Notes\n",
    "\n",
    "In Obsidian it is possible to create links to notes that don't exist yet. These non-existent notes appear in the vault graph and **have backlinks** but do not exist as markdown files.\n",
    "\n",
    "**NOTE:** Obsidian can erroneously read values in nested arrays from inline code blocks as internal wikilinks that create unexpected backlinks."
   ]
  },
  {
   "cell_type": "code",
   "execution_count": null,
   "id": "205c502b",
   "metadata": {},
   "outputs": [],
   "source": [
    "vault.nonexistent_notes"
   ]
  },
  {
   "cell_type": "markdown",
   "id": "31f2dfb0",
   "metadata": {},
   "source": [
    "## Analyse Vault"
   ]
  },
  {
   "cell_type": "markdown",
   "id": "c69bf027",
   "metadata": {},
   "source": [
    "#### Create Dataframe of Vault Metadata"
   ]
  },
  {
   "cell_type": "code",
   "execution_count": null,
   "id": "9754922e",
   "metadata": {},
   "outputs": [],
   "source": [
    "df = vault.get_note_metadata()\n",
    "df.head()"
   ]
  },
  {
   "cell_type": "markdown",
   "id": "a4b47b8d",
   "metadata": {},
   "source": [
    "#### Summarise Vault Metadata"
   ]
  },
  {
   "cell_type": "code",
   "execution_count": null,
   "id": "31abac46",
   "metadata": {},
   "outputs": [],
   "source": [
    "df.info()"
   ]
  },
  {
   "cell_type": "markdown",
   "id": "75797de2",
   "metadata": {},
   "source": [
    "### Analyse Backlinks"
   ]
  },
  {
   "cell_type": "markdown",
   "id": "5d3013f4",
   "metadata": {},
   "source": [
    "#### Sort Notes by Number of Backlinks"
   ]
  },
  {
   "cell_type": "code",
   "execution_count": null,
   "id": "233ac706",
   "metadata": {},
   "outputs": [],
   "source": [
    "df.sort_values('n_backlinks', ascending=False)"
   ]
  },
  {
   "cell_type": "markdown",
   "id": "049bcdfd",
   "metadata": {},
   "source": [
    "#### Get List of Backlinks For Specific Notes"
   ]
  },
  {
   "cell_type": "code",
   "execution_count": null,
   "id": "39aae701",
   "metadata": {},
   "outputs": [],
   "source": [
    "vault.get_backlinks('Obsidian')"
   ]
  },
  {
   "cell_type": "markdown",
   "id": "d30cb6c1",
   "metadata": {},
   "source": [
    "#### Get List of Backlinks with Counts"
   ]
  },
  {
   "cell_type": "code",
   "execution_count": null,
   "id": "db770622",
   "metadata": {},
   "outputs": [],
   "source": [
    "vault.get_backlink_counts('Obsidian')"
   ]
  },
  {
   "cell_type": "markdown",
   "id": "c111e5f6",
   "metadata": {},
   "source": [
    "#### View Backlinks Index"
   ]
  },
  {
   "cell_type": "code",
   "execution_count": null,
   "id": "40344696",
   "metadata": {},
   "outputs": [],
   "source": [
    "vault.backlinks_index"
   ]
  },
  {
   "cell_type": "markdown",
   "id": "6ecdab2f",
   "metadata": {},
   "source": [
    "### Analyse Wikilinks"
   ]
  },
  {
   "cell_type": "code",
   "execution_count": null,
   "id": "58904dc2",
   "metadata": {},
   "outputs": [],
   "source": [
    "df.sort_values('n_wikilinks', ascending=False)"
   ]
  },
  {
   "cell_type": "markdown",
   "id": "c53c48de",
   "metadata": {},
   "source": [
    "#### Get List of Wikilinks For Specific Notes"
   ]
  },
  {
   "cell_type": "code",
   "execution_count": null,
   "id": "c292b424",
   "metadata": {},
   "outputs": [],
   "source": [
    "vault.get_wikilinks('Obsidian')"
   ]
  },
  {
   "cell_type": "markdown",
   "id": "3d5a971c",
   "metadata": {},
   "source": [
    "#### Get List of Wikilinks with Counts"
   ]
  },
  {
   "cell_type": "code",
   "execution_count": null,
   "id": "d72b15be",
   "metadata": {},
   "outputs": [],
   "source": [
    "#vault.get_wikilink_counts('Obsidian') \n",
    "#This functionality is not yet implemented"
   ]
  },
  {
   "cell_type": "markdown",
   "id": "20f70112",
   "metadata": {},
   "source": [
    "#### View Wikilinks Index"
   ]
  },
  {
   "cell_type": "code",
   "execution_count": null,
   "id": "7908eab0",
   "metadata": {},
   "outputs": [],
   "source": [
    "vault.wikilinks_index"
   ]
  },
  {
   "cell_type": "markdown",
   "id": "b6b522a6",
   "metadata": {},
   "source": [
    "### Analyse Embedded Files"
   ]
  },
  {
   "cell_type": "code",
   "execution_count": null,
   "id": "6914e7a7",
   "metadata": {},
   "outputs": [],
   "source": [
    "df.sort_values('n_embedded_files', ascending=False)"
   ]
  },
  {
   "cell_type": "markdown",
   "id": "e2904605",
   "metadata": {},
   "source": [
    "#### Get List of Embedded For Specific Notes"
   ]
  },
  {
   "cell_type": "code",
   "execution_count": null,
   "id": "31e8c8f8",
   "metadata": {},
   "outputs": [],
   "source": [
    "vault.get_embedded_files('Obsidian')"
   ]
  },
  {
   "cell_type": "markdown",
   "id": "37240dd0",
   "metadata": {},
   "source": [
    "#### View Embedded Files Index"
   ]
  },
  {
   "cell_type": "code",
   "execution_count": null,
   "id": "a28e101e",
   "metadata": {},
   "outputs": [],
   "source": [
    "vault.embedded_files_index"
   ]
  },
  {
   "cell_type": "markdown",
   "id": "ac706a9b",
   "metadata": {},
   "source": [
    "### Analyse Front Matter"
   ]
  },
  {
   "cell_type": "code",
   "execution_count": null,
   "id": "69a5d7c0",
   "metadata": {},
   "outputs": [],
   "source": [
    "vault.get_front_matter('Obsidian')"
   ]
  },
  {
   "cell_type": "markdown",
   "id": "1093c4c0",
   "metadata": {},
   "source": [
    "### Analyse Tags"
   ]
  },
  {
   "cell_type": "code",
   "execution_count": null,
   "id": "a3cdc9ec",
   "metadata": {},
   "outputs": [],
   "source": [
    "vault.get_tags('Obsidian')"
   ]
  },
  {
   "cell_type": "markdown",
   "id": "44f18f69",
   "metadata": {},
   "source": [
    "#### View Tags Index"
   ]
  },
  {
   "cell_type": "code",
   "execution_count": null,
   "id": "a7b17121",
   "metadata": {},
   "outputs": [],
   "source": [
    "vault.tags_index"
   ]
  },
  {
   "cell_type": "markdown",
   "id": "f6a0d14a",
   "metadata": {},
   "source": [
    "## Visualise The Vault with NetworkX"
   ]
  },
  {
   "cell_type": "markdown",
   "id": "afe77e98",
   "metadata": {},
   "source": [
    "#### Map Node Colours to Existence / Non-Existence of Notes"
   ]
  },
  {
   "cell_type": "code",
   "execution_count": null,
   "id": "d08aec45",
   "metadata": {},
   "outputs": [],
   "source": [
    "color_cat_map = {False: '#D3D3D3', True: '#826ED9'}\n",
    "color_vals = (df['note_exists']\n",
    "              .map(color_cat_map)\n",
    "              .values)"
   ]
  },
  {
   "cell_type": "markdown",
   "id": "cd0e37b5",
   "metadata": {},
   "source": [
    "#### Plot Network"
   ]
  },
  {
   "cell_type": "code",
   "execution_count": null,
   "id": "8faa2b13",
   "metadata": {},
   "outputs": [],
   "source": [
    "fig, ax = plt.subplots(figsize=(12,10))\n",
    "nx.draw(vault.graph, node_color=color_vals, with_labels=True, ax=ax, pos=nx.fruchterman_reingold_layout(vault.graph))\n",
    "ax.set_title('Vault graph')\n",
    "plt.show()"
   ]
  },
  {
   "cell_type": "markdown",
   "id": "4c3e08fc",
   "metadata": {},
   "source": [
    "## Graph Analysis"
   ]
  },
  {
   "cell_type": "markdown",
   "id": "8a9f0dcd",
   "metadata": {},
   "source": [
    "#### Get Node Centrality Using Pagerank\n",
    "\n",
    "Pagerank assumes that the highest ranked notes are those likely to receive more links from other notes: the notes that have backlinks from the broadest range of other notes. \n",
    "\n",
    "The Pagerank score considers not only the number of backlinks but also their quality: Notes do not rank high if they contain multiple backlinks from the same note."
   ]
  },
  {
   "cell_type": "code",
   "execution_count": null,
   "id": "b11fb743",
   "metadata": {},
   "outputs": [],
   "source": [
    "(pd.Series(nx.pagerank(vault.graph), name='pagerank')\n",
    " .sort_values(ascending=False))"
   ]
  },
  {
   "cell_type": "markdown",
   "id": "0edddda4",
   "metadata": {},
   "source": [
    "#### Check Quality of Backlinks By Reviewing Note Text"
   ]
  },
  {
   "cell_type": "code",
   "execution_count": null,
   "id": "4222c6bf",
   "metadata": {},
   "outputs": [],
   "source": [
    "note_text = (vault.get_text('Obsidian'))\n",
    "print(note_text)"
   ]
  },
  {
   "cell_type": "code",
   "execution_count": null,
   "id": "98d0235b",
   "metadata": {},
   "outputs": [],
   "source": []
  }
 ],
 "metadata": {
  "kernelspec": {
   "display_name": "Python 3 (ipykernel)",
   "language": "python",
   "name": "python3"
  },
  "language_info": {
   "codemirror_mode": {
    "name": "ipython",
    "version": 3
   },
   "file_extension": ".py",
   "mimetype": "text/x-python",
   "name": "python",
   "nbconvert_exporter": "python",
   "pygments_lexer": "ipython3",
   "version": "3.8.12"
  }
 },
 "nbformat": 4,
 "nbformat_minor": 5
}
